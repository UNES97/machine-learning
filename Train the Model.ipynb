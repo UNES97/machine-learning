{
 "cells": [
  {
   "cell_type": "code",
   "execution_count": 47,
   "id": "857992c2",
   "metadata": {},
   "outputs": [
    {
     "data": {
      "text/plain": [
       "1.0"
      ]
     },
     "execution_count": 47,
     "metadata": {},
     "output_type": "execute_result"
    }
   ],
   "source": [
    "import pandas as pd\n",
    "# Algorith Model - Scikit Learn\n",
    "from sklearn.tree import DecisionTreeClassifier\n",
    "from sklearn.model_selection import train_test_split\n",
    "from sklearn.metrics import accuracy_score\n",
    "\n",
    "musicData = pd.read_csv('music.csv')\n",
    "\n",
    "# Seperate Dataset to Input & Output\n",
    "X = musicData.drop(columns=['genre'])\n",
    "y = musicData['genre']\n",
    "\n",
    "# Split Dataset to Training / Testing \n",
    "# Train my Model\n",
    "X_train , X_test , y_train , y_test = train_test_split(X.values , y , test_size=0.2)\n",
    "model.fit(X_train , y_train)\n",
    "predictions = model.predict(X_test)\n",
    "\n",
    "# Caclulate Prediction Accuracy\n",
    "score = accuracy_score(y_test , predictions)\n",
    "score"
   ]
  }
 ],
 "metadata": {
  "kernelspec": {
   "display_name": "Python 3 (ipykernel)",
   "language": "python",
   "name": "python3"
  },
  "language_info": {
   "codemirror_mode": {
    "name": "ipython",
    "version": 3
   },
   "file_extension": ".py",
   "mimetype": "text/x-python",
   "name": "python",
   "nbconvert_exporter": "python",
   "pygments_lexer": "ipython3",
   "version": "3.9.12"
  }
 },
 "nbformat": 4,
 "nbformat_minor": 5
}
