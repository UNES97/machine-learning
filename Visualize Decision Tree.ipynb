{
 "cells": [
  {
   "cell_type": "code",
   "execution_count": 4,
   "id": "c508d00b",
   "metadata": {},
   "outputs": [],
   "source": [
    "#Visualizing a Decision Tree\n",
    "import pandas as pd\n",
    "from sklearn.tree import DecisionTreeClassifier\n",
    "from sklearn import tree\n",
    "\n",
    "musicData = pd.read_csv('music.csv')\n",
    "\n",
    "X = musicData.drop(columns=['genre'])\n",
    "y = musicData['genre']\n",
    "\n",
    "model = DecisionTreeClassifier()\n",
    "model.fit(X.values , y)\n",
    "\n",
    "tree.export_graphviz(model , out_file='music-recommender.dot' , feature_names=['age' , 'gender'] , \n",
    "                    class_names=sorted(y.unique()) , label='all' , rounded=True , filled=True)"
   ]
  }
 ],
 "metadata": {
  "kernelspec": {
   "display_name": "Python 3 (ipykernel)",
   "language": "python",
   "name": "python3"
  },
  "language_info": {
   "codemirror_mode": {
    "name": "ipython",
    "version": 3
   },
   "file_extension": ".py",
   "mimetype": "text/x-python",
   "name": "python",
   "nbconvert_exporter": "python",
   "pygments_lexer": "ipython3",
   "version": "3.9.12"
  }
 },
 "nbformat": 4,
 "nbformat_minor": 5
}
